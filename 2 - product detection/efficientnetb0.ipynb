{
 "cells": [
  {
   "cell_type": "code",
   "execution_count": 2,
   "metadata": {
    "id": "dMaYJphWzv-Z",
    "outputId": "2504c8a3-d251-4e64-e385-fcc7eeea5e6a",
    "scrolled": true
   },
   "outputs": [
    {
     "name": "stderr",
     "output_type": "stream",
     "text": [
      "Using TensorFlow backend.\n"
     ]
    }
   ],
   "source": [
    "import pickle\n",
    "import numpy as np\n",
    "\n",
    "import tensorflow as tf\n",
    "from tensorflow import keras\n",
    "from tensorflow.keras import layers\n",
    "import keras\n",
    "from keras import layers\n",
    "\n",
    "tf.keras.backend.clear_session()  # For easy reset of notebook state.\n",
    "\n",
    "# from google.colab import drive\n",
    "# drive.mount('/content/drive')\n",
    "# base_folder = '/content/drive/My Drive/Colab Notebooks/Shopee2020/comp2 - product detection'\n",
    "# data_folder = '/content/drive/My Drive/Colab Notebooks/Shopee2020/comp2 - product detection/new_train'\n",
    "\n",
    "data_folder ='train/train'\n",
    "# save_folder = '../input/shopee-product-detection-student'\n",
    "\n",
    "#base_folder = '../input/shopee'\n",
    "# data_folder ='../input/shopee/train_new/train'\n",
    "# save_folder = '../input/shopee'\n",
    "\n",
    "\n",
    "#this pretrained model takes input as the one below\n",
    "input_shape = (224,224,3)"
   ]
  },
  {
   "cell_type": "code",
   "execution_count": 3,
   "metadata": {},
   "outputs": [],
   "source": [
    "from keras.preprocessing.image import ImageDataGenerator"
   ]
  },
  {
   "cell_type": "code",
   "execution_count": 4,
   "metadata": {
    "id": "fjhij2nIzv-g",
    "outputId": "9b816ff3-7a1e-4e8b-b531-281b0862627e",
    "scrolled": true
   },
   "outputs": [
    {
     "name": "stdout",
     "output_type": "stream",
     "text": [
      "Making training data generator...\n",
      "Found 56726 images belonging to 42 classes.\n",
      "Making validation data generator...\n",
      "Found 14161 images belonging to 42 classes.\n"
     ]
    }
   ],
   "source": [
    "# Set up the data generators to read from our data_folder\n",
    "bs = 128 # The batch size is 128\n",
    "\n",
    "# An object that applies transformations to the images before they are consumed by the model\n",
    "# These transformations include (1) preprocessing, like rescaling or normalization (2) data augmentation\n",
    "datagen = ImageDataGenerator(\n",
    "        rescale=1./255, # divide each pixel value by 255. Each pixel is in the range 0-255, so after division it is in 0-1\n",
    "        rotation_range=20, # rotate the image between -20 to +20 degrees\n",
    "        width_shift_range=0.2, # translate the image left-right for 20% of the image's width\n",
    "        height_shift_range=0.2, # same, for up-down and height\n",
    "        zoom_range=0.2,\n",
    "        horizontal_flip=True,\n",
    "        validation_split=0.2)\n",
    "print('Making training data generator...')\n",
    "train_gen = datagen.flow_from_directory(\n",
    "        data_folder,\n",
    "        target_size=input_shape[:2],\n",
    "        batch_size=bs,\n",
    "        subset='training')\n",
    "print('Making validation data generator...')\n",
    "val_gen = datagen.flow_from_directory(\n",
    "        data_folder,\n",
    "        target_size=input_shape[:2],\n",
    "        batch_size=bs,\n",
    "        subset='validation')"
   ]
  },
  {
   "cell_type": "code",
   "execution_count": 5,
   "metadata": {
    "id": "e2OVlxpeg7AC",
    "outputId": "2f9f1043-b2d4-456e-efe2-89227a6faa28"
   },
   "outputs": [
    {
     "name": "stdout",
     "output_type": "stream",
     "text": [
      "Collecting git+https://github.com/qubvel/efficientnet\n",
      "  Cloning https://github.com/qubvel/efficientnet to /private/var/folders/ch/wctq_gw94hnbp931rddqjk780000gn/T/pip-req-build-s6fe97mm\n",
      "  Running command git clone -q https://github.com/qubvel/efficientnet /private/var/folders/ch/wctq_gw94hnbp931rddqjk780000gn/T/pip-req-build-s6fe97mm\n",
      "Requirement already satisfied, skipping upgrade: keras_applications<=1.0.8,>=1.0.7 in /Users/pooja/opt/anaconda3/lib/python3.7/site-packages (from efficientnet==1.1.0) (1.0.8)\n",
      "Requirement already satisfied, skipping upgrade: scikit-image in /Users/pooja/opt/anaconda3/lib/python3.7/site-packages (from efficientnet==1.1.0) (0.15.0)\n",
      "Requirement already satisfied, skipping upgrade: numpy>=1.9.1 in /Users/pooja/.local/lib/python3.7/site-packages (from keras_applications<=1.0.8,>=1.0.7->efficientnet==1.1.0) (1.18.1)\n",
      "Requirement already satisfied, skipping upgrade: h5py in /Users/pooja/opt/anaconda3/lib/python3.7/site-packages (from keras_applications<=1.0.8,>=1.0.7->efficientnet==1.1.0) (2.10.0)\n",
      "Requirement already satisfied, skipping upgrade: networkx>=2.0 in /Users/pooja/opt/anaconda3/lib/python3.7/site-packages (from scikit-image->efficientnet==1.1.0) (2.3)\n",
      "Requirement already satisfied, skipping upgrade: pillow>=4.3.0 in /Users/pooja/opt/anaconda3/lib/python3.7/site-packages (from scikit-image->efficientnet==1.1.0) (7.1.2)\n",
      "Requirement already satisfied, skipping upgrade: imageio>=2.0.1 in /Users/pooja/opt/anaconda3/lib/python3.7/site-packages (from scikit-image->efficientnet==1.1.0) (2.6.0)\n",
      "Requirement already satisfied, skipping upgrade: matplotlib!=3.0.0,>=2.0.0 in /Users/pooja/opt/anaconda3/lib/python3.7/site-packages (from scikit-image->efficientnet==1.1.0) (3.1.1)\n",
      "Requirement already satisfied, skipping upgrade: PyWavelets>=0.4.0 in /Users/pooja/opt/anaconda3/lib/python3.7/site-packages (from scikit-image->efficientnet==1.1.0) (1.0.3)\n",
      "Requirement already satisfied, skipping upgrade: six in /Users/pooja/opt/anaconda3/lib/python3.7/site-packages (from h5py->keras_applications<=1.0.8,>=1.0.7->efficientnet==1.1.0) (1.14.0)\n",
      "Requirement already satisfied, skipping upgrade: decorator>=4.3.0 in /Users/pooja/opt/anaconda3/lib/python3.7/site-packages (from networkx>=2.0->scikit-image->efficientnet==1.1.0) (4.4.0)\n",
      "Requirement already satisfied, skipping upgrade: cycler>=0.10 in /Users/pooja/opt/anaconda3/lib/python3.7/site-packages (from matplotlib!=3.0.0,>=2.0.0->scikit-image->efficientnet==1.1.0) (0.10.0)\n",
      "Requirement already satisfied, skipping upgrade: kiwisolver>=1.0.1 in /Users/pooja/opt/anaconda3/lib/python3.7/site-packages (from matplotlib!=3.0.0,>=2.0.0->scikit-image->efficientnet==1.1.0) (1.1.0)\n",
      "Requirement already satisfied, skipping upgrade: pyparsing!=2.0.4,!=2.1.2,!=2.1.6,>=2.0.1 in /Users/pooja/opt/anaconda3/lib/python3.7/site-packages (from matplotlib!=3.0.0,>=2.0.0->scikit-image->efficientnet==1.1.0) (2.4.2)\n",
      "Requirement already satisfied, skipping upgrade: python-dateutil>=2.1 in /Users/pooja/opt/anaconda3/lib/python3.7/site-packages (from matplotlib!=3.0.0,>=2.0.0->scikit-image->efficientnet==1.1.0) (2.8.0)\n",
      "Requirement already satisfied, skipping upgrade: setuptools in /Users/pooja/opt/anaconda3/lib/python3.7/site-packages (from kiwisolver>=1.0.1->matplotlib!=3.0.0,>=2.0.0->scikit-image->efficientnet==1.1.0) (41.4.0)\n",
      "Building wheels for collected packages: efficientnet\n",
      "  Building wheel for efficientnet (setup.py) ... \u001b[?25ldone\n",
      "\u001b[?25h  Created wheel for efficientnet: filename=efficientnet-1.1.0-py3-none-any.whl size=18326 sha256=3aee5b709574a035013223371650aec862182e56d381aa4e894d5ea1b3dac404\n",
      "  Stored in directory: /private/var/folders/ch/wctq_gw94hnbp931rddqjk780000gn/T/pip-ephem-wheel-cache-hf42f2vy/wheels/11/69/85/814d64d694c96db0eef17b718042d644a1e54f113920481920\n",
      "Successfully built efficientnet\n",
      "Installing collected packages: efficientnet\n",
      "  Attempting uninstall: efficientnet\n",
      "    Found existing installation: efficientnet 1.1.0\n",
      "    Uninstalling efficientnet-1.1.0:\n",
      "      Successfully uninstalled efficientnet-1.1.0\n",
      "Successfully installed efficientnet-1.1.0\n"
     ]
    }
   ],
   "source": [
    "#!pip install image-classifiers==1.0.0b1\n",
    "\n",
    "# installing efficientNet source code\n",
    "!pip install -U git+https://github.com/qubvel/efficientnet\n",
    "\n",
    "#!pip install -U efficientnet"
   ]
  },
  {
   "cell_type": "code",
   "execution_count": 6,
   "metadata": {
    "id": "kvWJ7ey4GQ2r",
    "outputId": "8de67a12-a85d-4c49-c12d-b1a0cf74cbbd"
   },
   "outputs": [],
   "source": [
    "import efficientnet.keras as enet"
   ]
  },
  {
   "cell_type": "code",
   "execution_count": 7,
   "metadata": {
    "id": "jLRMsHg5GQzH"
   },
   "outputs": [],
   "source": [
    "from keras.layers import Flatten\n",
    "\n",
    "from keras.models import Sequential\n",
    "from keras.layers import Dense\n",
    "\n",
    "new_model = Sequential()\n",
    "new_model.add(enet.EfficientNetB0(include_top=False, input_shape=(224,224,3), pooling='avg', weights='imagenet'))\n",
    "#new_model.add(Flatten())\n",
    "new_model.add(Dense(42, activation='softmax', input_dim=2048))"
   ]
  },
  {
   "cell_type": "code",
   "execution_count": 8,
   "metadata": {
    "id": "PvonZ3SjGQt7",
    "outputId": "45d96c3a-2fc2-48a6-b94c-106f07c370c3"
   },
   "outputs": [
    {
     "name": "stdout",
     "output_type": "stream",
     "text": [
      "Model: \"sequential_1\"\n",
      "_________________________________________________________________\n",
      "Layer (type)                 Output Shape              Param #   \n",
      "=================================================================\n",
      "efficientnet-b0 (Model)      (None, 1280)              4049564   \n",
      "_________________________________________________________________\n",
      "dense_1 (Dense)              (None, 42)                53802     \n",
      "=================================================================\n",
      "Total params: 4,103,366\n",
      "Trainable params: 4,061,350\n",
      "Non-trainable params: 42,016\n",
      "_________________________________________________________________\n"
     ]
    }
   ],
   "source": [
    "new_model.summary()"
   ]
  },
  {
   "cell_type": "code",
   "execution_count": 9,
   "metadata": {
    "id": "raXZgvMkGQqR"
   },
   "outputs": [],
   "source": [
    "new_model.compile(optimizer='adam',\n",
    "                  loss = 'categorical_crossentropy',\n",
    "                  metrics=['categorical_accuracy'])"
   ]
  },
  {
   "cell_type": "code",
   "execution_count": 10,
   "metadata": {
    "id": "VE7ntE7TGQko"
   },
   "outputs": [],
   "source": [
    "from keras.callbacks import EarlyStopping, ReduceLROnPlateau, ModelCheckpoint\n",
    "import os\n",
    "model_context = 'inceptionv3'\n",
    "\n",
    "model_checkpoint = ModelCheckpoint('{}-best_val_loss.h5'.format(model_context),save_weights_only=False,monitor='val_loss',mode='auto',save_best_only=True)\n",
    "\n",
    "# If the validation loss doesn't improve for 20 epochs, stop training\n",
    "earlystopping = EarlyStopping(monitor='val_loss', patience=20)\n",
    "\n",
    "# If the validation loss doesn't improve for 5 epochs, reduce the learning rate to 0.2 times it's previous value\n",
    "reduce_lr = ReduceLROnPlateau(monitor='val_loss', factor=0.2, patience=5)"
   ]
  },
  {
   "cell_type": "code",
   "execution_count": 11,
   "metadata": {
    "id": "lmwB2N82GQh0",
    "outputId": "c4eb5887-a4ce-4acc-d174-702ff92dfd9c"
   },
   "outputs": [
    {
     "name": "stdout",
     "output_type": "stream",
     "text": [
      "Epoch 1/5\n",
      "  5/443 [..............................] - ETA: 9:03:43 - loss: 3.5759 - categorical_accuracy: 0.1156"
     ]
    },
    {
     "ename": "KeyboardInterrupt",
     "evalue": "",
     "output_type": "error",
     "traceback": [
      "\u001b[0;31m---------------------------------------------------------------------------\u001b[0m",
      "\u001b[0;31mKeyboardInterrupt\u001b[0m                         Traceback (most recent call last)",
      "\u001b[0;32m<ipython-input-11-8c2eb4be8710>\u001b[0m in \u001b[0;36m<module>\u001b[0;34m\u001b[0m\n\u001b[1;32m      7\u001b[0m     \u001b[0mvalidation_steps\u001b[0m\u001b[0;34m=\u001b[0m\u001b[0mval_gen\u001b[0m\u001b[0;34m.\u001b[0m\u001b[0mn\u001b[0m \u001b[0;34m//\u001b[0m \u001b[0mbs\u001b[0m\u001b[0;34m,\u001b[0m\u001b[0;34m\u001b[0m\u001b[0;34m\u001b[0m\u001b[0m\n\u001b[1;32m      8\u001b[0m     \u001b[0mcallbacks\u001b[0m\u001b[0;34m=\u001b[0m\u001b[0;34m[\u001b[0m\u001b[0mmodel_checkpoint\u001b[0m\u001b[0;34m,\u001b[0m \u001b[0mearlystopping\u001b[0m\u001b[0;34m,\u001b[0m \u001b[0mreduce_lr\u001b[0m\u001b[0;34m]\u001b[0m\u001b[0;34m,\u001b[0m\u001b[0;34m\u001b[0m\u001b[0;34m\u001b[0m\u001b[0m\n\u001b[0;32m----> 9\u001b[0;31m     verbose =1)\n\u001b[0m",
      "\u001b[0;32m~/opt/anaconda3/lib/python3.7/site-packages/keras/engine/training.py\u001b[0m in \u001b[0;36mfit\u001b[0;34m(self, x, y, batch_size, epochs, verbose, callbacks, validation_split, validation_data, shuffle, class_weight, sample_weight, initial_epoch, steps_per_epoch, validation_steps, validation_freq, max_queue_size, workers, use_multiprocessing, **kwargs)\u001b[0m\n\u001b[1;32m   1145\u001b[0m                 \u001b[0muse_multiprocessing\u001b[0m\u001b[0;34m=\u001b[0m\u001b[0muse_multiprocessing\u001b[0m\u001b[0;34m,\u001b[0m\u001b[0;34m\u001b[0m\u001b[0;34m\u001b[0m\u001b[0m\n\u001b[1;32m   1146\u001b[0m                 \u001b[0mshuffle\u001b[0m\u001b[0;34m=\u001b[0m\u001b[0mshuffle\u001b[0m\u001b[0;34m,\u001b[0m\u001b[0;34m\u001b[0m\u001b[0;34m\u001b[0m\u001b[0m\n\u001b[0;32m-> 1147\u001b[0;31m                 initial_epoch=initial_epoch)\n\u001b[0m\u001b[1;32m   1148\u001b[0m \u001b[0;34m\u001b[0m\u001b[0m\n\u001b[1;32m   1149\u001b[0m         \u001b[0;31m# Case 2: Symbolic tensors or Numpy array-like.\u001b[0m\u001b[0;34m\u001b[0m\u001b[0;34m\u001b[0m\u001b[0;34m\u001b[0m\u001b[0m\n",
      "\u001b[0;32m~/opt/anaconda3/lib/python3.7/site-packages/keras/legacy/interfaces.py\u001b[0m in \u001b[0;36mwrapper\u001b[0;34m(*args, **kwargs)\u001b[0m\n\u001b[1;32m     89\u001b[0m                 warnings.warn('Update your `' + object_name + '` call to the ' +\n\u001b[1;32m     90\u001b[0m                               'Keras 2 API: ' + signature, stacklevel=2)\n\u001b[0;32m---> 91\u001b[0;31m             \u001b[0;32mreturn\u001b[0m \u001b[0mfunc\u001b[0m\u001b[0;34m(\u001b[0m\u001b[0;34m*\u001b[0m\u001b[0margs\u001b[0m\u001b[0;34m,\u001b[0m \u001b[0;34m**\u001b[0m\u001b[0mkwargs\u001b[0m\u001b[0;34m)\u001b[0m\u001b[0;34m\u001b[0m\u001b[0;34m\u001b[0m\u001b[0m\n\u001b[0m\u001b[1;32m     92\u001b[0m         \u001b[0mwrapper\u001b[0m\u001b[0;34m.\u001b[0m\u001b[0m_original_function\u001b[0m \u001b[0;34m=\u001b[0m \u001b[0mfunc\u001b[0m\u001b[0;34m\u001b[0m\u001b[0;34m\u001b[0m\u001b[0m\n\u001b[1;32m     93\u001b[0m         \u001b[0;32mreturn\u001b[0m \u001b[0mwrapper\u001b[0m\u001b[0;34m\u001b[0m\u001b[0;34m\u001b[0m\u001b[0m\n",
      "\u001b[0;32m~/opt/anaconda3/lib/python3.7/site-packages/keras/engine/training.py\u001b[0m in \u001b[0;36mfit_generator\u001b[0;34m(self, generator, steps_per_epoch, epochs, verbose, callbacks, validation_data, validation_steps, validation_freq, class_weight, max_queue_size, workers, use_multiprocessing, shuffle, initial_epoch)\u001b[0m\n\u001b[1;32m   1730\u001b[0m             \u001b[0muse_multiprocessing\u001b[0m\u001b[0;34m=\u001b[0m\u001b[0muse_multiprocessing\u001b[0m\u001b[0;34m,\u001b[0m\u001b[0;34m\u001b[0m\u001b[0;34m\u001b[0m\u001b[0m\n\u001b[1;32m   1731\u001b[0m             \u001b[0mshuffle\u001b[0m\u001b[0;34m=\u001b[0m\u001b[0mshuffle\u001b[0m\u001b[0;34m,\u001b[0m\u001b[0;34m\u001b[0m\u001b[0;34m\u001b[0m\u001b[0m\n\u001b[0;32m-> 1732\u001b[0;31m             initial_epoch=initial_epoch)\n\u001b[0m\u001b[1;32m   1733\u001b[0m \u001b[0;34m\u001b[0m\u001b[0m\n\u001b[1;32m   1734\u001b[0m     \u001b[0;34m@\u001b[0m\u001b[0minterfaces\u001b[0m\u001b[0;34m.\u001b[0m\u001b[0mlegacy_generator_methods_support\u001b[0m\u001b[0;34m\u001b[0m\u001b[0;34m\u001b[0m\u001b[0m\n",
      "\u001b[0;32m~/opt/anaconda3/lib/python3.7/site-packages/keras/engine/training_generator.py\u001b[0m in \u001b[0;36mfit_generator\u001b[0;34m(model, generator, steps_per_epoch, epochs, verbose, callbacks, validation_data, validation_steps, validation_freq, class_weight, max_queue_size, workers, use_multiprocessing, shuffle, initial_epoch)\u001b[0m\n\u001b[1;32m    218\u001b[0m                                             \u001b[0msample_weight\u001b[0m\u001b[0;34m=\u001b[0m\u001b[0msample_weight\u001b[0m\u001b[0;34m,\u001b[0m\u001b[0;34m\u001b[0m\u001b[0;34m\u001b[0m\u001b[0m\n\u001b[1;32m    219\u001b[0m                                             \u001b[0mclass_weight\u001b[0m\u001b[0;34m=\u001b[0m\u001b[0mclass_weight\u001b[0m\u001b[0;34m,\u001b[0m\u001b[0;34m\u001b[0m\u001b[0;34m\u001b[0m\u001b[0m\n\u001b[0;32m--> 220\u001b[0;31m                                             reset_metrics=False)\n\u001b[0m\u001b[1;32m    221\u001b[0m \u001b[0;34m\u001b[0m\u001b[0m\n\u001b[1;32m    222\u001b[0m                 \u001b[0mouts\u001b[0m \u001b[0;34m=\u001b[0m \u001b[0mto_list\u001b[0m\u001b[0;34m(\u001b[0m\u001b[0mouts\u001b[0m\u001b[0;34m)\u001b[0m\u001b[0;34m\u001b[0m\u001b[0;34m\u001b[0m\u001b[0m\n",
      "\u001b[0;32m~/opt/anaconda3/lib/python3.7/site-packages/keras/engine/training.py\u001b[0m in \u001b[0;36mtrain_on_batch\u001b[0;34m(self, x, y, sample_weight, class_weight, reset_metrics)\u001b[0m\n\u001b[1;32m   1512\u001b[0m             \u001b[0mins\u001b[0m \u001b[0;34m=\u001b[0m \u001b[0mx\u001b[0m \u001b[0;34m+\u001b[0m \u001b[0my\u001b[0m \u001b[0;34m+\u001b[0m \u001b[0msample_weights\u001b[0m\u001b[0;34m\u001b[0m\u001b[0;34m\u001b[0m\u001b[0m\n\u001b[1;32m   1513\u001b[0m         \u001b[0mself\u001b[0m\u001b[0;34m.\u001b[0m\u001b[0m_make_train_function\u001b[0m\u001b[0;34m(\u001b[0m\u001b[0;34m)\u001b[0m\u001b[0;34m\u001b[0m\u001b[0;34m\u001b[0m\u001b[0m\n\u001b[0;32m-> 1514\u001b[0;31m         \u001b[0moutputs\u001b[0m \u001b[0;34m=\u001b[0m \u001b[0mself\u001b[0m\u001b[0;34m.\u001b[0m\u001b[0mtrain_function\u001b[0m\u001b[0;34m(\u001b[0m\u001b[0mins\u001b[0m\u001b[0;34m)\u001b[0m\u001b[0;34m\u001b[0m\u001b[0;34m\u001b[0m\u001b[0m\n\u001b[0m\u001b[1;32m   1515\u001b[0m \u001b[0;34m\u001b[0m\u001b[0m\n\u001b[1;32m   1516\u001b[0m         \u001b[0;32mif\u001b[0m \u001b[0mreset_metrics\u001b[0m\u001b[0;34m:\u001b[0m\u001b[0;34m\u001b[0m\u001b[0;34m\u001b[0m\u001b[0m\n",
      "\u001b[0;32m~/opt/anaconda3/lib/python3.7/site-packages/tensorflow/python/keras/backend.py\u001b[0m in \u001b[0;36m__call__\u001b[0;34m(self, inputs)\u001b[0m\n\u001b[1;32m   3790\u001b[0m         \u001b[0mvalue\u001b[0m \u001b[0;34m=\u001b[0m \u001b[0mmath_ops\u001b[0m\u001b[0;34m.\u001b[0m\u001b[0mcast\u001b[0m\u001b[0;34m(\u001b[0m\u001b[0mvalue\u001b[0m\u001b[0;34m,\u001b[0m \u001b[0mtensor\u001b[0m\u001b[0;34m.\u001b[0m\u001b[0mdtype\u001b[0m\u001b[0;34m)\u001b[0m\u001b[0;34m\u001b[0m\u001b[0;34m\u001b[0m\u001b[0m\n\u001b[1;32m   3791\u001b[0m       \u001b[0mconverted_inputs\u001b[0m\u001b[0;34m.\u001b[0m\u001b[0mappend\u001b[0m\u001b[0;34m(\u001b[0m\u001b[0mvalue\u001b[0m\u001b[0;34m)\u001b[0m\u001b[0;34m\u001b[0m\u001b[0;34m\u001b[0m\u001b[0m\n\u001b[0;32m-> 3792\u001b[0;31m     \u001b[0moutputs\u001b[0m \u001b[0;34m=\u001b[0m \u001b[0mself\u001b[0m\u001b[0;34m.\u001b[0m\u001b[0m_graph_fn\u001b[0m\u001b[0;34m(\u001b[0m\u001b[0;34m*\u001b[0m\u001b[0mconverted_inputs\u001b[0m\u001b[0;34m)\u001b[0m\u001b[0;34m\u001b[0m\u001b[0;34m\u001b[0m\u001b[0m\n\u001b[0m\u001b[1;32m   3793\u001b[0m \u001b[0;34m\u001b[0m\u001b[0m\n\u001b[1;32m   3794\u001b[0m     \u001b[0;31m# EagerTensor.numpy() will often make a copy to ensure memory safety.\u001b[0m\u001b[0;34m\u001b[0m\u001b[0;34m\u001b[0m\u001b[0;34m\u001b[0m\u001b[0m\n",
      "\u001b[0;32m~/opt/anaconda3/lib/python3.7/site-packages/tensorflow/python/eager/function.py\u001b[0m in \u001b[0;36m__call__\u001b[0;34m(self, *args, **kwargs)\u001b[0m\n\u001b[1;32m   1603\u001b[0m       \u001b[0mTypeError\u001b[0m\u001b[0;34m:\u001b[0m \u001b[0mFor\u001b[0m \u001b[0minvalid\u001b[0m \u001b[0mpositional\u001b[0m\u001b[0;34m/\u001b[0m\u001b[0mkeyword\u001b[0m \u001b[0margument\u001b[0m \u001b[0mcombinations\u001b[0m\u001b[0;34m.\u001b[0m\u001b[0;34m\u001b[0m\u001b[0;34m\u001b[0m\u001b[0m\n\u001b[1;32m   1604\u001b[0m     \"\"\"\n\u001b[0;32m-> 1605\u001b[0;31m     \u001b[0;32mreturn\u001b[0m \u001b[0mself\u001b[0m\u001b[0;34m.\u001b[0m\u001b[0m_call_impl\u001b[0m\u001b[0;34m(\u001b[0m\u001b[0margs\u001b[0m\u001b[0;34m,\u001b[0m \u001b[0mkwargs\u001b[0m\u001b[0;34m)\u001b[0m\u001b[0;34m\u001b[0m\u001b[0;34m\u001b[0m\u001b[0m\n\u001b[0m\u001b[1;32m   1606\u001b[0m \u001b[0;34m\u001b[0m\u001b[0m\n\u001b[1;32m   1607\u001b[0m   \u001b[0;32mdef\u001b[0m \u001b[0m_call_impl\u001b[0m\u001b[0;34m(\u001b[0m\u001b[0mself\u001b[0m\u001b[0;34m,\u001b[0m \u001b[0margs\u001b[0m\u001b[0;34m,\u001b[0m \u001b[0mkwargs\u001b[0m\u001b[0;34m,\u001b[0m \u001b[0mcancellation_manager\u001b[0m\u001b[0;34m=\u001b[0m\u001b[0;32mNone\u001b[0m\u001b[0;34m)\u001b[0m\u001b[0;34m:\u001b[0m\u001b[0;34m\u001b[0m\u001b[0;34m\u001b[0m\u001b[0m\n",
      "\u001b[0;32m~/opt/anaconda3/lib/python3.7/site-packages/tensorflow/python/eager/function.py\u001b[0m in \u001b[0;36m_call_impl\u001b[0;34m(self, args, kwargs, cancellation_manager)\u001b[0m\n\u001b[1;32m   1643\u001b[0m       raise TypeError(\"Keyword arguments {} unknown. Expected {}.\".format(\n\u001b[1;32m   1644\u001b[0m           list(kwargs.keys()), list(self._arg_keywords)))\n\u001b[0;32m-> 1645\u001b[0;31m     \u001b[0;32mreturn\u001b[0m \u001b[0mself\u001b[0m\u001b[0;34m.\u001b[0m\u001b[0m_call_flat\u001b[0m\u001b[0;34m(\u001b[0m\u001b[0margs\u001b[0m\u001b[0;34m,\u001b[0m \u001b[0mself\u001b[0m\u001b[0;34m.\u001b[0m\u001b[0mcaptured_inputs\u001b[0m\u001b[0;34m,\u001b[0m \u001b[0mcancellation_manager\u001b[0m\u001b[0;34m)\u001b[0m\u001b[0;34m\u001b[0m\u001b[0;34m\u001b[0m\u001b[0m\n\u001b[0m\u001b[1;32m   1646\u001b[0m \u001b[0;34m\u001b[0m\u001b[0m\n\u001b[1;32m   1647\u001b[0m   \u001b[0;32mdef\u001b[0m \u001b[0m_filtered_call\u001b[0m\u001b[0;34m(\u001b[0m\u001b[0mself\u001b[0m\u001b[0;34m,\u001b[0m \u001b[0margs\u001b[0m\u001b[0;34m,\u001b[0m \u001b[0mkwargs\u001b[0m\u001b[0;34m)\u001b[0m\u001b[0;34m:\u001b[0m\u001b[0;34m\u001b[0m\u001b[0;34m\u001b[0m\u001b[0m\n",
      "\u001b[0;32m~/opt/anaconda3/lib/python3.7/site-packages/tensorflow/python/eager/function.py\u001b[0m in \u001b[0;36m_call_flat\u001b[0;34m(self, args, captured_inputs, cancellation_manager)\u001b[0m\n\u001b[1;32m   1744\u001b[0m       \u001b[0;31m# No tape is watching; skip to running the function.\u001b[0m\u001b[0;34m\u001b[0m\u001b[0;34m\u001b[0m\u001b[0;34m\u001b[0m\u001b[0m\n\u001b[1;32m   1745\u001b[0m       return self._build_call_outputs(self._inference_function.call(\n\u001b[0;32m-> 1746\u001b[0;31m           ctx, args, cancellation_manager=cancellation_manager))\n\u001b[0m\u001b[1;32m   1747\u001b[0m     forward_backward = self._select_forward_and_backward_functions(\n\u001b[1;32m   1748\u001b[0m         \u001b[0margs\u001b[0m\u001b[0;34m,\u001b[0m\u001b[0;34m\u001b[0m\u001b[0;34m\u001b[0m\u001b[0m\n",
      "\u001b[0;32m~/opt/anaconda3/lib/python3.7/site-packages/tensorflow/python/eager/function.py\u001b[0m in \u001b[0;36mcall\u001b[0;34m(self, ctx, args, cancellation_manager)\u001b[0m\n\u001b[1;32m    596\u001b[0m               \u001b[0minputs\u001b[0m\u001b[0;34m=\u001b[0m\u001b[0margs\u001b[0m\u001b[0;34m,\u001b[0m\u001b[0;34m\u001b[0m\u001b[0;34m\u001b[0m\u001b[0m\n\u001b[1;32m    597\u001b[0m               \u001b[0mattrs\u001b[0m\u001b[0;34m=\u001b[0m\u001b[0mattrs\u001b[0m\u001b[0;34m,\u001b[0m\u001b[0;34m\u001b[0m\u001b[0;34m\u001b[0m\u001b[0m\n\u001b[0;32m--> 598\u001b[0;31m               ctx=ctx)\n\u001b[0m\u001b[1;32m    599\u001b[0m         \u001b[0;32melse\u001b[0m\u001b[0;34m:\u001b[0m\u001b[0;34m\u001b[0m\u001b[0;34m\u001b[0m\u001b[0m\n\u001b[1;32m    600\u001b[0m           outputs = execute.execute_with_cancellation(\n",
      "\u001b[0;32m~/opt/anaconda3/lib/python3.7/site-packages/tensorflow/python/eager/execute.py\u001b[0m in \u001b[0;36mquick_execute\u001b[0;34m(op_name, num_outputs, inputs, attrs, ctx, name)\u001b[0m\n\u001b[1;32m     58\u001b[0m     \u001b[0mctx\u001b[0m\u001b[0;34m.\u001b[0m\u001b[0mensure_initialized\u001b[0m\u001b[0;34m(\u001b[0m\u001b[0;34m)\u001b[0m\u001b[0;34m\u001b[0m\u001b[0;34m\u001b[0m\u001b[0m\n\u001b[1;32m     59\u001b[0m     tensors = pywrap_tfe.TFE_Py_Execute(ctx._handle, device_name, op_name,\n\u001b[0;32m---> 60\u001b[0;31m                                         inputs, attrs, num_outputs)\n\u001b[0m\u001b[1;32m     61\u001b[0m   \u001b[0;32mexcept\u001b[0m \u001b[0mcore\u001b[0m\u001b[0;34m.\u001b[0m\u001b[0m_NotOkStatusException\u001b[0m \u001b[0;32mas\u001b[0m \u001b[0me\u001b[0m\u001b[0;34m:\u001b[0m\u001b[0;34m\u001b[0m\u001b[0;34m\u001b[0m\u001b[0m\n\u001b[1;32m     62\u001b[0m     \u001b[0;32mif\u001b[0m \u001b[0mname\u001b[0m \u001b[0;32mis\u001b[0m \u001b[0;32mnot\u001b[0m \u001b[0;32mNone\u001b[0m\u001b[0;34m:\u001b[0m\u001b[0;34m\u001b[0m\u001b[0;34m\u001b[0m\u001b[0m\n",
      "\u001b[0;31mKeyboardInterrupt\u001b[0m: "
     ]
    }
   ],
   "source": [
    "epochs = 5\n",
    "new_model.fit(\n",
    "    train_gen,\n",
    "    steps_per_epoch=train_gen.n // bs,\n",
    "    epochs=epochs,\n",
    "    validation_data=val_gen,\n",
    "    validation_steps=val_gen.n // bs,\n",
    "    callbacks=[model_checkpoint, earlystopping, reduce_lr],\n",
    "    verbose =1)"
   ]
  },
  {
   "cell_type": "code",
   "execution_count": null,
   "metadata": {
    "id": "wVDgkV7lzv_A"
   },
   "outputs": [],
   "source": [
    "new_model.save('efficientnetb0_3epoch.h5')"
   ]
  },
  {
   "cell_type": "markdown",
   "metadata": {
    "id": "SWuZlrBRzv_D"
   },
   "source": [
    "# load pretrained model\n",
    "##### (the model is trained above)"
   ]
  },
  {
   "cell_type": "code",
   "execution_count": null,
   "metadata": {
    "id": "pTUFY_sMzv_D"
   },
   "outputs": [],
   "source": [
    "#training_model = tf.keras.models.load_model('..input/epochh5/new_model_kaggle_1epoch.h5')"
   ]
  },
  {
   "cell_type": "markdown",
   "metadata": {
    "id": "RSNycaFwzv_G"
   },
   "source": [
    "# predictions"
   ]
  },
  {
   "cell_type": "code",
   "execution_count": 12,
   "metadata": {
    "id": "eV0JoB2fzv_H"
   },
   "outputs": [],
   "source": [
    "from tensorflow.keras.preprocessing.image import load_img, img_to_array\n",
    "\n",
    "def run_image_on_model(img_path, model, label_map):\n",
    "  pil_img = load_img(img_path)\n",
    "  pil_img = pil_img.resize( input_shape[:2] )\n",
    "  img_arr = img_to_array(pil_img)\n",
    "  # Remember to normalize the image values the same way you did when you trained the model\n",
    "  img_arr = img_arr / 255.\n",
    "  # We need to wrap this in an np.array with dimensions (b,H,W,C). Currently, the shape is only (H,W,C)\n",
    "  img_arr = np.array( [img_arr] )\n",
    "  pred = model.predict(img_arr, batch_size=1)[0]\n",
    "  pred_idx = np.argmax(pred)\n",
    "  return label_map[pred_idx]"
   ]
  },
  {
   "cell_type": "code",
   "execution_count": 13,
   "metadata": {
    "id": "Vw8FL0xTzv_J",
    "scrolled": true
   },
   "outputs": [
    {
     "data": {
      "text/plain": [
       "{0: '00',\n",
       " 1: '01',\n",
       " 2: '02',\n",
       " 3: '03',\n",
       " 4: '04',\n",
       " 5: '05',\n",
       " 6: '06',\n",
       " 7: '07',\n",
       " 8: '08',\n",
       " 9: '09',\n",
       " 10: '10',\n",
       " 11: '11',\n",
       " 12: '12',\n",
       " 13: '13',\n",
       " 14: '14',\n",
       " 15: '15',\n",
       " 16: '16',\n",
       " 17: '17',\n",
       " 18: '18',\n",
       " 19: '19',\n",
       " 20: '20',\n",
       " 21: '21',\n",
       " 22: '22',\n",
       " 23: '23',\n",
       " 24: '24',\n",
       " 25: '25',\n",
       " 26: '26',\n",
       " 27: '27',\n",
       " 28: '28',\n",
       " 29: '29',\n",
       " 30: '30',\n",
       " 31: '31',\n",
       " 32: '32',\n",
       " 33: '33',\n",
       " 34: '34',\n",
       " 35: '35',\n",
       " 36: '36',\n",
       " 37: '37',\n",
       " 38: '38',\n",
       " 39: '39',\n",
       " 40: '40',\n",
       " 41: '41'}"
      ]
     },
     "execution_count": 13,
     "metadata": {},
     "output_type": "execute_result"
    }
   ],
   "source": [
    "# Construct a reverse mapping\n",
    "label_map = {v:k for k,v in train_gen.class_indices.items()}\n",
    "label_map"
   ]
  },
  {
   "cell_type": "code",
   "execution_count": 14,
   "metadata": {
    "id": "QfYyGQwqzv_M",
    "scrolled": true
   },
   "outputs": [
    {
     "data": {
      "text/plain": [
       "'12'"
      ]
     },
     "execution_count": 14,
     "metadata": {},
     "output_type": "execute_result"
    }
   ],
   "source": [
    "# test the function to see if it works, should print the category\n",
    "run_image_on_model('../input/shopeetest/test/0004b03ad7eabfb3989727c461310a84.jpg', new_model, label_map)"
   ]
  },
  {
   "cell_type": "code",
   "execution_count": 15,
   "metadata": {
    "id": "0RwwF8ZEzv_Q"
   },
   "outputs": [
    {
     "name": "stdout",
     "output_type": "stream",
     "text": [
      "{'00': 0, '01': 1, '02': 2, '03': 3, '04': 4, '05': 5, '06': 6, '07': 7, '08': 8, '09': 9, '10': 10, '11': 11, '12': 12, '13': 13, '14': 14, '15': 15, '16': 16, '17': 17, '18': 18, '19': 19, '20': 20, '21': 21, '22': 22, '23': 23, '24': 24, '25': 25, '26': 26, '27': 27, '28': 28, '29': 29, '30': 30, '31': 31, '32': 32, '33': 33, '34': 34, '35': 35, '36': 36, '37': 37, '38': 38, '39': 39, '40': 40, '41': 41}\n"
     ]
    }
   ],
   "source": [
    "# The generator's internal labeling \n",
    "print(train_gen.class_indices)"
   ]
  },
  {
   "cell_type": "code",
   "execution_count": 17,
   "metadata": {},
   "outputs": [],
   "source": [
    "test_folder = '../input/shopee-product-detection-student/test/test/test'"
   ]
  },
  {
   "cell_type": "code",
   "execution_count": 18,
   "metadata": {
    "id": "36TNUXsCzv_S",
    "scrolled": false
   },
   "outputs": [
    {
     "data": {
      "text/html": [
       "<div>\n",
       "<style scoped>\n",
       "    .dataframe tbody tr th:only-of-type {\n",
       "        vertical-align: middle;\n",
       "    }\n",
       "\n",
       "    .dataframe tbody tr th {\n",
       "        vertical-align: top;\n",
       "    }\n",
       "\n",
       "    .dataframe thead th {\n",
       "        text-align: right;\n",
       "    }\n",
       "</style>\n",
       "<table border=\"1\" class=\"dataframe\">\n",
       "  <thead>\n",
       "    <tr style=\"text-align: right;\">\n",
       "      <th></th>\n",
       "      <th>filename</th>\n",
       "    </tr>\n",
       "  </thead>\n",
       "  <tbody>\n",
       "    <tr>\n",
       "      <th>0</th>\n",
       "      <td>70f33346d45bf086f0401ab0c574b6c3.jpg</td>\n",
       "    </tr>\n",
       "    <tr>\n",
       "      <th>1</th>\n",
       "      <td>26d5d0e72e79acb152600fe84d948875.jpg</td>\n",
       "    </tr>\n",
       "    <tr>\n",
       "      <th>2</th>\n",
       "      <td>b213ae298a91f74f813031c038fadf15.jpg</td>\n",
       "    </tr>\n",
       "    <tr>\n",
       "      <th>3</th>\n",
       "      <td>a4a5fd79014fa1346bbab3be76f2173a.jpg</td>\n",
       "    </tr>\n",
       "    <tr>\n",
       "      <th>4</th>\n",
       "      <td>fc1c5b59905930eb8a13a72249040cc2.jpg</td>\n",
       "    </tr>\n",
       "    <tr>\n",
       "      <th>...</th>\n",
       "      <td>...</td>\n",
       "    </tr>\n",
       "    <tr>\n",
       "      <th>12187</th>\n",
       "      <td>4f1e71f00628a1350723fce9999aaaf3.jpg</td>\n",
       "    </tr>\n",
       "    <tr>\n",
       "      <th>12188</th>\n",
       "      <td>8ba3dc5a082c3b6c3fb0e3aa0de5508b.jpg</td>\n",
       "    </tr>\n",
       "    <tr>\n",
       "      <th>12189</th>\n",
       "      <td>de8b3f896d9035ca0ee05cb1c7071469.jpg</td>\n",
       "    </tr>\n",
       "    <tr>\n",
       "      <th>12190</th>\n",
       "      <td>618e3c20756112f0c703f8d158793f7e.jpg</td>\n",
       "    </tr>\n",
       "    <tr>\n",
       "      <th>12191</th>\n",
       "      <td>1f63fe37d4417b4dbb2c0a800d65f2d2.jpg</td>\n",
       "    </tr>\n",
       "  </tbody>\n",
       "</table>\n",
       "<p>12192 rows × 1 columns</p>\n",
       "</div>"
      ],
      "text/plain": [
       "                                   filename\n",
       "0      70f33346d45bf086f0401ab0c574b6c3.jpg\n",
       "1      26d5d0e72e79acb152600fe84d948875.jpg\n",
       "2      b213ae298a91f74f813031c038fadf15.jpg\n",
       "3      a4a5fd79014fa1346bbab3be76f2173a.jpg\n",
       "4      fc1c5b59905930eb8a13a72249040cc2.jpg\n",
       "...                                     ...\n",
       "12187  4f1e71f00628a1350723fce9999aaaf3.jpg\n",
       "12188  8ba3dc5a082c3b6c3fb0e3aa0de5508b.jpg\n",
       "12189  de8b3f896d9035ca0ee05cb1c7071469.jpg\n",
       "12190  618e3c20756112f0c703f8d158793f7e.jpg\n",
       "12191  1f63fe37d4417b4dbb2c0a800d65f2d2.jpg\n",
       "\n",
       "[12192 rows x 1 columns]"
      ]
     },
     "execution_count": 18,
     "metadata": {},
     "output_type": "execute_result"
    }
   ],
   "source": [
    "import pandas as pd\n",
    "import os\n",
    "\n",
    "# create another dataframe to store results\n",
    "\n",
    "resultdf = pd.DataFrame(os.listdir(test_folder), columns =['filename'])\n",
    "resultdf"
   ]
  },
  {
   "cell_type": "code",
   "execution_count": 22,
   "metadata": {
    "id": "qpCi_6yNzv_W"
   },
   "outputs": [
    {
     "data": {
      "text/html": [
       "<div>\n",
       "<style scoped>\n",
       "    .dataframe tbody tr th:only-of-type {\n",
       "        vertical-align: middle;\n",
       "    }\n",
       "\n",
       "    .dataframe tbody tr th {\n",
       "        vertical-align: top;\n",
       "    }\n",
       "\n",
       "    .dataframe thead th {\n",
       "        text-align: right;\n",
       "    }\n",
       "</style>\n",
       "<table border=\"1\" class=\"dataframe\">\n",
       "  <thead>\n",
       "    <tr style=\"text-align: right;\">\n",
       "      <th></th>\n",
       "      <th>filename</th>\n",
       "      <th>path</th>\n",
       "    </tr>\n",
       "  </thead>\n",
       "  <tbody>\n",
       "    <tr>\n",
       "      <th>0</th>\n",
       "      <td>70f33346d45bf086f0401ab0c574b6c3.jpg</td>\n",
       "      <td>../input/shopee-product-detection-student/test...</td>\n",
       "    </tr>\n",
       "    <tr>\n",
       "      <th>1</th>\n",
       "      <td>26d5d0e72e79acb152600fe84d948875.jpg</td>\n",
       "      <td>../input/shopee-product-detection-student/test...</td>\n",
       "    </tr>\n",
       "    <tr>\n",
       "      <th>2</th>\n",
       "      <td>b213ae298a91f74f813031c038fadf15.jpg</td>\n",
       "      <td>../input/shopee-product-detection-student/test...</td>\n",
       "    </tr>\n",
       "    <tr>\n",
       "      <th>3</th>\n",
       "      <td>a4a5fd79014fa1346bbab3be76f2173a.jpg</td>\n",
       "      <td>../input/shopee-product-detection-student/test...</td>\n",
       "    </tr>\n",
       "    <tr>\n",
       "      <th>4</th>\n",
       "      <td>fc1c5b59905930eb8a13a72249040cc2.jpg</td>\n",
       "      <td>../input/shopee-product-detection-student/test...</td>\n",
       "    </tr>\n",
       "    <tr>\n",
       "      <th>...</th>\n",
       "      <td>...</td>\n",
       "      <td>...</td>\n",
       "    </tr>\n",
       "    <tr>\n",
       "      <th>12187</th>\n",
       "      <td>4f1e71f00628a1350723fce9999aaaf3.jpg</td>\n",
       "      <td>../input/shopee-product-detection-student/test...</td>\n",
       "    </tr>\n",
       "    <tr>\n",
       "      <th>12188</th>\n",
       "      <td>8ba3dc5a082c3b6c3fb0e3aa0de5508b.jpg</td>\n",
       "      <td>../input/shopee-product-detection-student/test...</td>\n",
       "    </tr>\n",
       "    <tr>\n",
       "      <th>12189</th>\n",
       "      <td>de8b3f896d9035ca0ee05cb1c7071469.jpg</td>\n",
       "      <td>../input/shopee-product-detection-student/test...</td>\n",
       "    </tr>\n",
       "    <tr>\n",
       "      <th>12190</th>\n",
       "      <td>618e3c20756112f0c703f8d158793f7e.jpg</td>\n",
       "      <td>../input/shopee-product-detection-student/test...</td>\n",
       "    </tr>\n",
       "    <tr>\n",
       "      <th>12191</th>\n",
       "      <td>1f63fe37d4417b4dbb2c0a800d65f2d2.jpg</td>\n",
       "      <td>../input/shopee-product-detection-student/test...</td>\n",
       "    </tr>\n",
       "  </tbody>\n",
       "</table>\n",
       "<p>12192 rows × 2 columns</p>\n",
       "</div>"
      ],
      "text/plain": [
       "                                   filename  \\\n",
       "0      70f33346d45bf086f0401ab0c574b6c3.jpg   \n",
       "1      26d5d0e72e79acb152600fe84d948875.jpg   \n",
       "2      b213ae298a91f74f813031c038fadf15.jpg   \n",
       "3      a4a5fd79014fa1346bbab3be76f2173a.jpg   \n",
       "4      fc1c5b59905930eb8a13a72249040cc2.jpg   \n",
       "...                                     ...   \n",
       "12187  4f1e71f00628a1350723fce9999aaaf3.jpg   \n",
       "12188  8ba3dc5a082c3b6c3fb0e3aa0de5508b.jpg   \n",
       "12189  de8b3f896d9035ca0ee05cb1c7071469.jpg   \n",
       "12190  618e3c20756112f0c703f8d158793f7e.jpg   \n",
       "12191  1f63fe37d4417b4dbb2c0a800d65f2d2.jpg   \n",
       "\n",
       "                                                    path  \n",
       "0      ../input/shopee-product-detection-student/test...  \n",
       "1      ../input/shopee-product-detection-student/test...  \n",
       "2      ../input/shopee-product-detection-student/test...  \n",
       "3      ../input/shopee-product-detection-student/test...  \n",
       "4      ../input/shopee-product-detection-student/test...  \n",
       "...                                                  ...  \n",
       "12187  ../input/shopee-product-detection-student/test...  \n",
       "12188  ../input/shopee-product-detection-student/test...  \n",
       "12189  ../input/shopee-product-detection-student/test...  \n",
       "12190  ../input/shopee-product-detection-student/test...  \n",
       "12191  ../input/shopee-product-detection-student/test...  \n",
       "\n",
       "[12192 rows x 2 columns]"
      ]
     },
     "execution_count": 22,
     "metadata": {},
     "output_type": "execute_result"
    }
   ],
   "source": [
    "# add 'test/test/' to the filename, that will be the path for the images\n",
    "resultdf['path'] = resultdf['filename'].map(lambda x: '../input/shopee-product-detection-student/test/test/test/' + str(x))\n",
    "resultdf"
   ]
  },
  {
   "cell_type": "code",
   "execution_count": 23,
   "metadata": {
    "id": "cvB-0fLZzv_Z"
   },
   "outputs": [
    {
     "data": {
      "text/html": [
       "<div>\n",
       "<style scoped>\n",
       "    .dataframe tbody tr th:only-of-type {\n",
       "        vertical-align: middle;\n",
       "    }\n",
       "\n",
       "    .dataframe tbody tr th {\n",
       "        vertical-align: top;\n",
       "    }\n",
       "\n",
       "    .dataframe thead th {\n",
       "        text-align: right;\n",
       "    }\n",
       "</style>\n",
       "<table border=\"1\" class=\"dataframe\">\n",
       "  <thead>\n",
       "    <tr style=\"text-align: right;\">\n",
       "      <th></th>\n",
       "      <th>filename</th>\n",
       "      <th>path</th>\n",
       "      <th>category</th>\n",
       "    </tr>\n",
       "  </thead>\n",
       "  <tbody>\n",
       "    <tr>\n",
       "      <th>0</th>\n",
       "      <td>70f33346d45bf086f0401ab0c574b6c3.jpg</td>\n",
       "      <td>../input/shopee-product-detection-student/test...</td>\n",
       "      <td>18</td>\n",
       "    </tr>\n",
       "    <tr>\n",
       "      <th>1</th>\n",
       "      <td>26d5d0e72e79acb152600fe84d948875.jpg</td>\n",
       "      <td>../input/shopee-product-detection-student/test...</td>\n",
       "      <td>05</td>\n",
       "    </tr>\n",
       "    <tr>\n",
       "      <th>2</th>\n",
       "      <td>b213ae298a91f74f813031c038fadf15.jpg</td>\n",
       "      <td>../input/shopee-product-detection-student/test...</td>\n",
       "      <td>27</td>\n",
       "    </tr>\n",
       "    <tr>\n",
       "      <th>3</th>\n",
       "      <td>a4a5fd79014fa1346bbab3be76f2173a.jpg</td>\n",
       "      <td>../input/shopee-product-detection-student/test...</td>\n",
       "      <td>10</td>\n",
       "    </tr>\n",
       "    <tr>\n",
       "      <th>4</th>\n",
       "      <td>fc1c5b59905930eb8a13a72249040cc2.jpg</td>\n",
       "      <td>../input/shopee-product-detection-student/test...</td>\n",
       "      <td>02</td>\n",
       "    </tr>\n",
       "    <tr>\n",
       "      <th>...</th>\n",
       "      <td>...</td>\n",
       "      <td>...</td>\n",
       "      <td>...</td>\n",
       "    </tr>\n",
       "    <tr>\n",
       "      <th>12187</th>\n",
       "      <td>4f1e71f00628a1350723fce9999aaaf3.jpg</td>\n",
       "      <td>../input/shopee-product-detection-student/test...</td>\n",
       "      <td>05</td>\n",
       "    </tr>\n",
       "    <tr>\n",
       "      <th>12188</th>\n",
       "      <td>8ba3dc5a082c3b6c3fb0e3aa0de5508b.jpg</td>\n",
       "      <td>../input/shopee-product-detection-student/test...</td>\n",
       "      <td>02</td>\n",
       "    </tr>\n",
       "    <tr>\n",
       "      <th>12189</th>\n",
       "      <td>de8b3f896d9035ca0ee05cb1c7071469.jpg</td>\n",
       "      <td>../input/shopee-product-detection-student/test...</td>\n",
       "      <td>03</td>\n",
       "    </tr>\n",
       "    <tr>\n",
       "      <th>12190</th>\n",
       "      <td>618e3c20756112f0c703f8d158793f7e.jpg</td>\n",
       "      <td>../input/shopee-product-detection-student/test...</td>\n",
       "      <td>24</td>\n",
       "    </tr>\n",
       "    <tr>\n",
       "      <th>12191</th>\n",
       "      <td>1f63fe37d4417b4dbb2c0a800d65f2d2.jpg</td>\n",
       "      <td>../input/shopee-product-detection-student/test...</td>\n",
       "      <td>24</td>\n",
       "    </tr>\n",
       "  </tbody>\n",
       "</table>\n",
       "<p>12192 rows × 3 columns</p>\n",
       "</div>"
      ],
      "text/plain": [
       "                                   filename  \\\n",
       "0      70f33346d45bf086f0401ab0c574b6c3.jpg   \n",
       "1      26d5d0e72e79acb152600fe84d948875.jpg   \n",
       "2      b213ae298a91f74f813031c038fadf15.jpg   \n",
       "3      a4a5fd79014fa1346bbab3be76f2173a.jpg   \n",
       "4      fc1c5b59905930eb8a13a72249040cc2.jpg   \n",
       "...                                     ...   \n",
       "12187  4f1e71f00628a1350723fce9999aaaf3.jpg   \n",
       "12188  8ba3dc5a082c3b6c3fb0e3aa0de5508b.jpg   \n",
       "12189  de8b3f896d9035ca0ee05cb1c7071469.jpg   \n",
       "12190  618e3c20756112f0c703f8d158793f7e.jpg   \n",
       "12191  1f63fe37d4417b4dbb2c0a800d65f2d2.jpg   \n",
       "\n",
       "                                                    path category  \n",
       "0      ../input/shopee-product-detection-student/test...       18  \n",
       "1      ../input/shopee-product-detection-student/test...       05  \n",
       "2      ../input/shopee-product-detection-student/test...       27  \n",
       "3      ../input/shopee-product-detection-student/test...       10  \n",
       "4      ../input/shopee-product-detection-student/test...       02  \n",
       "...                                                  ...      ...  \n",
       "12187  ../input/shopee-product-detection-student/test...       05  \n",
       "12188  ../input/shopee-product-detection-student/test...       02  \n",
       "12189  ../input/shopee-product-detection-student/test...       03  \n",
       "12190  ../input/shopee-product-detection-student/test...       24  \n",
       "12191  ../input/shopee-product-detection-student/test...       24  \n",
       "\n",
       "[12192 rows x 3 columns]"
      ]
     },
     "execution_count": 23,
     "metadata": {},
     "output_type": "execute_result"
    }
   ],
   "source": [
    "resultdf['category'] = resultdf['path'].map(lambda x: run_image_on_model(x, new_model, label_map))\n",
    "resultdf"
   ]
  },
  {
   "cell_type": "code",
   "execution_count": 24,
   "metadata": {
    "id": "Pcr7iReXzv_c",
    "scrolled": false
   },
   "outputs": [
    {
     "data": {
      "text/html": [
       "<div>\n",
       "<style scoped>\n",
       "    .dataframe tbody tr th:only-of-type {\n",
       "        vertical-align: middle;\n",
       "    }\n",
       "\n",
       "    .dataframe tbody tr th {\n",
       "        vertical-align: top;\n",
       "    }\n",
       "\n",
       "    .dataframe thead th {\n",
       "        text-align: right;\n",
       "    }\n",
       "</style>\n",
       "<table border=\"1\" class=\"dataframe\">\n",
       "  <thead>\n",
       "    <tr style=\"text-align: right;\">\n",
       "      <th></th>\n",
       "      <th>filename</th>\n",
       "      <th>path</th>\n",
       "      <th>category</th>\n",
       "    </tr>\n",
       "  </thead>\n",
       "  <tbody>\n",
       "    <tr>\n",
       "      <th>0</th>\n",
       "      <td>70f33346d45bf086f0401ab0c574b6c3.jpg</td>\n",
       "      <td>../input/shopee-product-detection-student/test...</td>\n",
       "      <td>18</td>\n",
       "    </tr>\n",
       "    <tr>\n",
       "      <th>1</th>\n",
       "      <td>26d5d0e72e79acb152600fe84d948875.jpg</td>\n",
       "      <td>../input/shopee-product-detection-student/test...</td>\n",
       "      <td>05</td>\n",
       "    </tr>\n",
       "    <tr>\n",
       "      <th>2</th>\n",
       "      <td>b213ae298a91f74f813031c038fadf15.jpg</td>\n",
       "      <td>../input/shopee-product-detection-student/test...</td>\n",
       "      <td>27</td>\n",
       "    </tr>\n",
       "    <tr>\n",
       "      <th>3</th>\n",
       "      <td>a4a5fd79014fa1346bbab3be76f2173a.jpg</td>\n",
       "      <td>../input/shopee-product-detection-student/test...</td>\n",
       "      <td>10</td>\n",
       "    </tr>\n",
       "    <tr>\n",
       "      <th>4</th>\n",
       "      <td>fc1c5b59905930eb8a13a72249040cc2.jpg</td>\n",
       "      <td>../input/shopee-product-detection-student/test...</td>\n",
       "      <td>02</td>\n",
       "    </tr>\n",
       "    <tr>\n",
       "      <th>...</th>\n",
       "      <td>...</td>\n",
       "      <td>...</td>\n",
       "      <td>...</td>\n",
       "    </tr>\n",
       "    <tr>\n",
       "      <th>12187</th>\n",
       "      <td>4f1e71f00628a1350723fce9999aaaf3.jpg</td>\n",
       "      <td>../input/shopee-product-detection-student/test...</td>\n",
       "      <td>05</td>\n",
       "    </tr>\n",
       "    <tr>\n",
       "      <th>12188</th>\n",
       "      <td>8ba3dc5a082c3b6c3fb0e3aa0de5508b.jpg</td>\n",
       "      <td>../input/shopee-product-detection-student/test...</td>\n",
       "      <td>02</td>\n",
       "    </tr>\n",
       "    <tr>\n",
       "      <th>12189</th>\n",
       "      <td>de8b3f896d9035ca0ee05cb1c7071469.jpg</td>\n",
       "      <td>../input/shopee-product-detection-student/test...</td>\n",
       "      <td>03</td>\n",
       "    </tr>\n",
       "    <tr>\n",
       "      <th>12190</th>\n",
       "      <td>618e3c20756112f0c703f8d158793f7e.jpg</td>\n",
       "      <td>../input/shopee-product-detection-student/test...</td>\n",
       "      <td>24</td>\n",
       "    </tr>\n",
       "    <tr>\n",
       "      <th>12191</th>\n",
       "      <td>1f63fe37d4417b4dbb2c0a800d65f2d2.jpg</td>\n",
       "      <td>../input/shopee-product-detection-student/test...</td>\n",
       "      <td>24</td>\n",
       "    </tr>\n",
       "  </tbody>\n",
       "</table>\n",
       "<p>12192 rows × 3 columns</p>\n",
       "</div>"
      ],
      "text/plain": [
       "                                   filename  \\\n",
       "0      70f33346d45bf086f0401ab0c574b6c3.jpg   \n",
       "1      26d5d0e72e79acb152600fe84d948875.jpg   \n",
       "2      b213ae298a91f74f813031c038fadf15.jpg   \n",
       "3      a4a5fd79014fa1346bbab3be76f2173a.jpg   \n",
       "4      fc1c5b59905930eb8a13a72249040cc2.jpg   \n",
       "...                                     ...   \n",
       "12187  4f1e71f00628a1350723fce9999aaaf3.jpg   \n",
       "12188  8ba3dc5a082c3b6c3fb0e3aa0de5508b.jpg   \n",
       "12189  de8b3f896d9035ca0ee05cb1c7071469.jpg   \n",
       "12190  618e3c20756112f0c703f8d158793f7e.jpg   \n",
       "12191  1f63fe37d4417b4dbb2c0a800d65f2d2.jpg   \n",
       "\n",
       "                                                    path category  \n",
       "0      ../input/shopee-product-detection-student/test...       18  \n",
       "1      ../input/shopee-product-detection-student/test...       05  \n",
       "2      ../input/shopee-product-detection-student/test...       27  \n",
       "3      ../input/shopee-product-detection-student/test...       10  \n",
       "4      ../input/shopee-product-detection-student/test...       02  \n",
       "...                                                  ...      ...  \n",
       "12187  ../input/shopee-product-detection-student/test...       05  \n",
       "12188  ../input/shopee-product-detection-student/test...       02  \n",
       "12189  ../input/shopee-product-detection-student/test...       03  \n",
       "12190  ../input/shopee-product-detection-student/test...       24  \n",
       "12191  ../input/shopee-product-detection-student/test...       24  \n",
       "\n",
       "[12192 rows x 3 columns]"
      ]
     },
     "execution_count": 24,
     "metadata": {},
     "output_type": "execute_result"
    }
   ],
   "source": [
    "# make a copy in case anything goes wrong\n",
    "# we will use the copy version\n",
    "resultdf_copy = resultdf.copy()\n",
    "resultdf_copy"
   ]
  },
  {
   "cell_type": "code",
   "execution_count": 25,
   "metadata": {
    "id": "36GKkSCEzv_f",
    "scrolled": false
   },
   "outputs": [
    {
     "data": {
      "text/html": [
       "<div>\n",
       "<style scoped>\n",
       "    .dataframe tbody tr th:only-of-type {\n",
       "        vertical-align: middle;\n",
       "    }\n",
       "\n",
       "    .dataframe tbody tr th {\n",
       "        vertical-align: top;\n",
       "    }\n",
       "\n",
       "    .dataframe thead th {\n",
       "        text-align: right;\n",
       "    }\n",
       "</style>\n",
       "<table border=\"1\" class=\"dataframe\">\n",
       "  <thead>\n",
       "    <tr style=\"text-align: right;\">\n",
       "      <th></th>\n",
       "      <th>filename</th>\n",
       "      <th>category</th>\n",
       "    </tr>\n",
       "  </thead>\n",
       "  <tbody>\n",
       "    <tr>\n",
       "      <th>0</th>\n",
       "      <td>70f33346d45bf086f0401ab0c574b6c3.jpg</td>\n",
       "      <td>18</td>\n",
       "    </tr>\n",
       "    <tr>\n",
       "      <th>1</th>\n",
       "      <td>26d5d0e72e79acb152600fe84d948875.jpg</td>\n",
       "      <td>05</td>\n",
       "    </tr>\n",
       "    <tr>\n",
       "      <th>2</th>\n",
       "      <td>b213ae298a91f74f813031c038fadf15.jpg</td>\n",
       "      <td>27</td>\n",
       "    </tr>\n",
       "    <tr>\n",
       "      <th>3</th>\n",
       "      <td>a4a5fd79014fa1346bbab3be76f2173a.jpg</td>\n",
       "      <td>10</td>\n",
       "    </tr>\n",
       "    <tr>\n",
       "      <th>4</th>\n",
       "      <td>fc1c5b59905930eb8a13a72249040cc2.jpg</td>\n",
       "      <td>02</td>\n",
       "    </tr>\n",
       "    <tr>\n",
       "      <th>...</th>\n",
       "      <td>...</td>\n",
       "      <td>...</td>\n",
       "    </tr>\n",
       "    <tr>\n",
       "      <th>12187</th>\n",
       "      <td>4f1e71f00628a1350723fce9999aaaf3.jpg</td>\n",
       "      <td>05</td>\n",
       "    </tr>\n",
       "    <tr>\n",
       "      <th>12188</th>\n",
       "      <td>8ba3dc5a082c3b6c3fb0e3aa0de5508b.jpg</td>\n",
       "      <td>02</td>\n",
       "    </tr>\n",
       "    <tr>\n",
       "      <th>12189</th>\n",
       "      <td>de8b3f896d9035ca0ee05cb1c7071469.jpg</td>\n",
       "      <td>03</td>\n",
       "    </tr>\n",
       "    <tr>\n",
       "      <th>12190</th>\n",
       "      <td>618e3c20756112f0c703f8d158793f7e.jpg</td>\n",
       "      <td>24</td>\n",
       "    </tr>\n",
       "    <tr>\n",
       "      <th>12191</th>\n",
       "      <td>1f63fe37d4417b4dbb2c0a800d65f2d2.jpg</td>\n",
       "      <td>24</td>\n",
       "    </tr>\n",
       "  </tbody>\n",
       "</table>\n",
       "<p>12192 rows × 2 columns</p>\n",
       "</div>"
      ],
      "text/plain": [
       "                                   filename category\n",
       "0      70f33346d45bf086f0401ab0c574b6c3.jpg       18\n",
       "1      26d5d0e72e79acb152600fe84d948875.jpg       05\n",
       "2      b213ae298a91f74f813031c038fadf15.jpg       27\n",
       "3      a4a5fd79014fa1346bbab3be76f2173a.jpg       10\n",
       "4      fc1c5b59905930eb8a13a72249040cc2.jpg       02\n",
       "...                                     ...      ...\n",
       "12187  4f1e71f00628a1350723fce9999aaaf3.jpg       05\n",
       "12188  8ba3dc5a082c3b6c3fb0e3aa0de5508b.jpg       02\n",
       "12189  de8b3f896d9035ca0ee05cb1c7071469.jpg       03\n",
       "12190  618e3c20756112f0c703f8d158793f7e.jpg       24\n",
       "12191  1f63fe37d4417b4dbb2c0a800d65f2d2.jpg       24\n",
       "\n",
       "[12192 rows x 2 columns]"
      ]
     },
     "execution_count": 25,
     "metadata": {},
     "output_type": "execute_result"
    }
   ],
   "source": [
    "# we do no need path in the csv\n",
    "del resultdf_copy['path']\n",
    "resultdf_copy"
   ]
  },
  {
   "cell_type": "code",
   "execution_count": 26,
   "metadata": {
    "id": "3Rhcg9eBzv_h",
    "scrolled": true
   },
   "outputs": [
    {
     "data": {
      "text/html": [
       "<div>\n",
       "<style scoped>\n",
       "    .dataframe tbody tr th:only-of-type {\n",
       "        vertical-align: middle;\n",
       "    }\n",
       "\n",
       "    .dataframe tbody tr th {\n",
       "        vertical-align: top;\n",
       "    }\n",
       "\n",
       "    .dataframe thead th {\n",
       "        text-align: right;\n",
       "    }\n",
       "</style>\n",
       "<table border=\"1\" class=\"dataframe\">\n",
       "  <thead>\n",
       "    <tr style=\"text-align: right;\">\n",
       "      <th></th>\n",
       "      <th>filename</th>\n",
       "      <th>category</th>\n",
       "    </tr>\n",
       "  </thead>\n",
       "  <tbody>\n",
       "    <tr>\n",
       "      <th>0</th>\n",
       "      <td>fd663cf2b6e1d7b02938c6aaae0a32d2.jpg</td>\n",
       "      <td>43</td>\n",
       "    </tr>\n",
       "    <tr>\n",
       "      <th>1</th>\n",
       "      <td>c7fd77508a8c355eaab0d4e10efd6b15.jpg</td>\n",
       "      <td>43</td>\n",
       "    </tr>\n",
       "    <tr>\n",
       "      <th>2</th>\n",
       "      <td>127f3e6d6e3491b2459812353f33a913.jpg</td>\n",
       "      <td>43</td>\n",
       "    </tr>\n",
       "    <tr>\n",
       "      <th>3</th>\n",
       "      <td>5ca4f2da11eda083064e6c36f37eeb81.jpg</td>\n",
       "      <td>43</td>\n",
       "    </tr>\n",
       "    <tr>\n",
       "      <th>4</th>\n",
       "      <td>46d681a542f2c71be017eef6aae23313.jpg</td>\n",
       "      <td>43</td>\n",
       "    </tr>\n",
       "    <tr>\n",
       "      <th>...</th>\n",
       "      <td>...</td>\n",
       "      <td>...</td>\n",
       "    </tr>\n",
       "    <tr>\n",
       "      <th>12181</th>\n",
       "      <td>5ba958eacb23cd7d1673bad4dae55784.jpg</td>\n",
       "      <td>43</td>\n",
       "    </tr>\n",
       "    <tr>\n",
       "      <th>12182</th>\n",
       "      <td>efbe41a1c2b666b70e337e438559808b.jpg</td>\n",
       "      <td>43</td>\n",
       "    </tr>\n",
       "    <tr>\n",
       "      <th>12183</th>\n",
       "      <td>79fdaa5ac5ba10dbe8004cabd8c35eb3.jpg</td>\n",
       "      <td>43</td>\n",
       "    </tr>\n",
       "    <tr>\n",
       "      <th>12184</th>\n",
       "      <td>ac3d136124617637a05ba66694e381ef.jpg</td>\n",
       "      <td>43</td>\n",
       "    </tr>\n",
       "    <tr>\n",
       "      <th>12185</th>\n",
       "      <td>7ef61d7cfbad9cfe2db4f64560e3dddd.jpg</td>\n",
       "      <td>43</td>\n",
       "    </tr>\n",
       "  </tbody>\n",
       "</table>\n",
       "<p>12186 rows × 2 columns</p>\n",
       "</div>"
      ],
      "text/plain": [
       "                                   filename  category\n",
       "0      fd663cf2b6e1d7b02938c6aaae0a32d2.jpg        43\n",
       "1      c7fd77508a8c355eaab0d4e10efd6b15.jpg        43\n",
       "2      127f3e6d6e3491b2459812353f33a913.jpg        43\n",
       "3      5ca4f2da11eda083064e6c36f37eeb81.jpg        43\n",
       "4      46d681a542f2c71be017eef6aae23313.jpg        43\n",
       "...                                     ...       ...\n",
       "12181  5ba958eacb23cd7d1673bad4dae55784.jpg        43\n",
       "12182  efbe41a1c2b666b70e337e438559808b.jpg        43\n",
       "12183  79fdaa5ac5ba10dbe8004cabd8c35eb3.jpg        43\n",
       "12184  ac3d136124617637a05ba66694e381ef.jpg        43\n",
       "12185  7ef61d7cfbad9cfe2db4f64560e3dddd.jpg        43\n",
       "\n",
       "[12186 rows x 2 columns]"
      ]
     },
     "execution_count": 26,
     "metadata": {},
     "output_type": "execute_result"
    }
   ],
   "source": [
    "# test csv has 12196 rows but test folder has 12192 pictures\n",
    "# kaggle say follow the test csv, so need to remove the extra 6 filenames in resultdf_copy\n",
    "# will perform a merge\n",
    "test = pd.read_csv('../input/shopee-product-detection-student/test.csv')\n",
    "test"
   ]
  },
  {
   "cell_type": "code",
   "execution_count": 27,
   "metadata": {
    "id": "azhefCqHzv_l"
   },
   "outputs": [
    {
     "data": {
      "text/html": [
       "<div>\n",
       "<style scoped>\n",
       "    .dataframe tbody tr th:only-of-type {\n",
       "        vertical-align: middle;\n",
       "    }\n",
       "\n",
       "    .dataframe tbody tr th {\n",
       "        vertical-align: top;\n",
       "    }\n",
       "\n",
       "    .dataframe thead th {\n",
       "        text-align: right;\n",
       "    }\n",
       "</style>\n",
       "<table border=\"1\" class=\"dataframe\">\n",
       "  <thead>\n",
       "    <tr style=\"text-align: right;\">\n",
       "      <th></th>\n",
       "      <th>filename</th>\n",
       "    </tr>\n",
       "  </thead>\n",
       "  <tbody>\n",
       "    <tr>\n",
       "      <th>0</th>\n",
       "      <td>fd663cf2b6e1d7b02938c6aaae0a32d2.jpg</td>\n",
       "    </tr>\n",
       "    <tr>\n",
       "      <th>1</th>\n",
       "      <td>c7fd77508a8c355eaab0d4e10efd6b15.jpg</td>\n",
       "    </tr>\n",
       "    <tr>\n",
       "      <th>2</th>\n",
       "      <td>127f3e6d6e3491b2459812353f33a913.jpg</td>\n",
       "    </tr>\n",
       "    <tr>\n",
       "      <th>3</th>\n",
       "      <td>5ca4f2da11eda083064e6c36f37eeb81.jpg</td>\n",
       "    </tr>\n",
       "    <tr>\n",
       "      <th>4</th>\n",
       "      <td>46d681a542f2c71be017eef6aae23313.jpg</td>\n",
       "    </tr>\n",
       "    <tr>\n",
       "      <th>...</th>\n",
       "      <td>...</td>\n",
       "    </tr>\n",
       "    <tr>\n",
       "      <th>12181</th>\n",
       "      <td>5ba958eacb23cd7d1673bad4dae55784.jpg</td>\n",
       "    </tr>\n",
       "    <tr>\n",
       "      <th>12182</th>\n",
       "      <td>efbe41a1c2b666b70e337e438559808b.jpg</td>\n",
       "    </tr>\n",
       "    <tr>\n",
       "      <th>12183</th>\n",
       "      <td>79fdaa5ac5ba10dbe8004cabd8c35eb3.jpg</td>\n",
       "    </tr>\n",
       "    <tr>\n",
       "      <th>12184</th>\n",
       "      <td>ac3d136124617637a05ba66694e381ef.jpg</td>\n",
       "    </tr>\n",
       "    <tr>\n",
       "      <th>12185</th>\n",
       "      <td>7ef61d7cfbad9cfe2db4f64560e3dddd.jpg</td>\n",
       "    </tr>\n",
       "  </tbody>\n",
       "</table>\n",
       "<p>12186 rows × 1 columns</p>\n",
       "</div>"
      ],
      "text/plain": [
       "                                   filename\n",
       "0      fd663cf2b6e1d7b02938c6aaae0a32d2.jpg\n",
       "1      c7fd77508a8c355eaab0d4e10efd6b15.jpg\n",
       "2      127f3e6d6e3491b2459812353f33a913.jpg\n",
       "3      5ca4f2da11eda083064e6c36f37eeb81.jpg\n",
       "4      46d681a542f2c71be017eef6aae23313.jpg\n",
       "...                                     ...\n",
       "12181  5ba958eacb23cd7d1673bad4dae55784.jpg\n",
       "12182  efbe41a1c2b666b70e337e438559808b.jpg\n",
       "12183  79fdaa5ac5ba10dbe8004cabd8c35eb3.jpg\n",
       "12184  ac3d136124617637a05ba66694e381ef.jpg\n",
       "12185  7ef61d7cfbad9cfe2db4f64560e3dddd.jpg\n",
       "\n",
       "[12186 rows x 1 columns]"
      ]
     },
     "execution_count": 27,
     "metadata": {},
     "output_type": "execute_result"
    }
   ],
   "source": [
    "del test['category']\n",
    "test"
   ]
  },
  {
   "cell_type": "code",
   "execution_count": 28,
   "metadata": {
    "id": "kPJWWg_Mzv_o"
   },
   "outputs": [
    {
     "data": {
      "text/html": [
       "<div>\n",
       "<style scoped>\n",
       "    .dataframe tbody tr th:only-of-type {\n",
       "        vertical-align: middle;\n",
       "    }\n",
       "\n",
       "    .dataframe tbody tr th {\n",
       "        vertical-align: top;\n",
       "    }\n",
       "\n",
       "    .dataframe thead th {\n",
       "        text-align: right;\n",
       "    }\n",
       "</style>\n",
       "<table border=\"1\" class=\"dataframe\">\n",
       "  <thead>\n",
       "    <tr style=\"text-align: right;\">\n",
       "      <th></th>\n",
       "      <th>filename</th>\n",
       "      <th>category</th>\n",
       "    </tr>\n",
       "  </thead>\n",
       "  <tbody>\n",
       "    <tr>\n",
       "      <th>0</th>\n",
       "      <td>70f33346d45bf086f0401ab0c574b6c3.jpg</td>\n",
       "      <td>18</td>\n",
       "    </tr>\n",
       "    <tr>\n",
       "      <th>1</th>\n",
       "      <td>26d5d0e72e79acb152600fe84d948875.jpg</td>\n",
       "      <td>05</td>\n",
       "    </tr>\n",
       "    <tr>\n",
       "      <th>2</th>\n",
       "      <td>b213ae298a91f74f813031c038fadf15.jpg</td>\n",
       "      <td>27</td>\n",
       "    </tr>\n",
       "    <tr>\n",
       "      <th>3</th>\n",
       "      <td>a4a5fd79014fa1346bbab3be76f2173a.jpg</td>\n",
       "      <td>10</td>\n",
       "    </tr>\n",
       "    <tr>\n",
       "      <th>4</th>\n",
       "      <td>fc1c5b59905930eb8a13a72249040cc2.jpg</td>\n",
       "      <td>02</td>\n",
       "    </tr>\n",
       "    <tr>\n",
       "      <th>...</th>\n",
       "      <td>...</td>\n",
       "      <td>...</td>\n",
       "    </tr>\n",
       "    <tr>\n",
       "      <th>12181</th>\n",
       "      <td>4f1e71f00628a1350723fce9999aaaf3.jpg</td>\n",
       "      <td>05</td>\n",
       "    </tr>\n",
       "    <tr>\n",
       "      <th>12182</th>\n",
       "      <td>8ba3dc5a082c3b6c3fb0e3aa0de5508b.jpg</td>\n",
       "      <td>02</td>\n",
       "    </tr>\n",
       "    <tr>\n",
       "      <th>12183</th>\n",
       "      <td>de8b3f896d9035ca0ee05cb1c7071469.jpg</td>\n",
       "      <td>03</td>\n",
       "    </tr>\n",
       "    <tr>\n",
       "      <th>12184</th>\n",
       "      <td>618e3c20756112f0c703f8d158793f7e.jpg</td>\n",
       "      <td>24</td>\n",
       "    </tr>\n",
       "    <tr>\n",
       "      <th>12185</th>\n",
       "      <td>1f63fe37d4417b4dbb2c0a800d65f2d2.jpg</td>\n",
       "      <td>24</td>\n",
       "    </tr>\n",
       "  </tbody>\n",
       "</table>\n",
       "<p>12186 rows × 2 columns</p>\n",
       "</div>"
      ],
      "text/plain": [
       "                                   filename category\n",
       "0      70f33346d45bf086f0401ab0c574b6c3.jpg       18\n",
       "1      26d5d0e72e79acb152600fe84d948875.jpg       05\n",
       "2      b213ae298a91f74f813031c038fadf15.jpg       27\n",
       "3      a4a5fd79014fa1346bbab3be76f2173a.jpg       10\n",
       "4      fc1c5b59905930eb8a13a72249040cc2.jpg       02\n",
       "...                                     ...      ...\n",
       "12181  4f1e71f00628a1350723fce9999aaaf3.jpg       05\n",
       "12182  8ba3dc5a082c3b6c3fb0e3aa0de5508b.jpg       02\n",
       "12183  de8b3f896d9035ca0ee05cb1c7071469.jpg       03\n",
       "12184  618e3c20756112f0c703f8d158793f7e.jpg       24\n",
       "12185  1f63fe37d4417b4dbb2c0a800d65f2d2.jpg       24\n",
       "\n",
       "[12186 rows x 2 columns]"
      ]
     },
     "execution_count": 28,
     "metadata": {},
     "output_type": "execute_result"
    }
   ],
   "source": [
    "finalresult = pd.merge(resultdf_copy, test, on = 'filename')\n",
    "finalresult"
   ]
  },
  {
   "cell_type": "code",
   "execution_count": 29,
   "metadata": {
    "id": "3JBndgXuzv_r"
   },
   "outputs": [],
   "source": [
    "finalresult.to_csv('gpu_b0_3.csv', index=False)"
   ]
  }
 ],
 "metadata": {
  "kernelspec": {
   "display_name": "Python 3",
   "language": "python",
   "name": "python3"
  },
  "language_info": {
   "codemirror_mode": {
    "name": "ipython",
    "version": 3
   },
   "file_extension": ".py",
   "mimetype": "text/x-python",
   "name": "python",
   "nbconvert_exporter": "python",
   "pygments_lexer": "ipython3",
   "version": "3.7.4"
  }
 },
 "nbformat": 4,
 "nbformat_minor": 4
}
